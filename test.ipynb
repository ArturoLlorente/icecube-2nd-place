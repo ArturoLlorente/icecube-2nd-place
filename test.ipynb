{
 "cells": [
  {
   "cell_type": "code",
   "execution_count": 1,
   "metadata": {},
   "outputs": [
    {
     "name": "stderr",
     "output_type": "stream",
     "text": [
      "/opt/conda/lib/python3.7/site-packages/torchvision/io/image.py:13: UserWarning: Failed to load image Python extension: /opt/conda/lib/python3.7/site-packages/torchvision/image.so: undefined symbol: _ZN5torch3jit17parseSchemaOrNameERKNSt7__cxx1112basic_stringIcSt11char_traitsIcESaIcEEE\n",
      "  warn(f\"Failed to load image Python extension: {e}\")\n"
     ]
    },
    {
     "name": "stdout",
     "output_type": "stream",
     "text": [
      "\u001b[1;34mgraphnet\u001b[0m: \u001b[32mINFO    \u001b[0m 2023-04-21 01:10:58 - get_logger - Writing log to \u001b[1mlogs/graphnet_20230421-011058.log\u001b[0m\n"
     ]
    }
   ],
   "source": [
    "from src.models import DeepIceModel, EncoderWithDirectionReconstructionV22, EncoderWithDirectionReconstructionV23\n",
    "import polars as pl\n",
    "import pandas as pd\n",
    "from src.fastai_fix import *\n",
    "from tqdm.notebook import tqdm\n",
    "from src.dataset import RandomChunkSampler,LenMatchBatchSampler,IceCubeCache, DeviceDataLoader\n",
    "from src.loss import loss, loss_vms\n",
    "from fastxtend.vision.all import EMACallback\n",
    "from tqdm import tqdm\n",
    "from src.utils import seed_everything, WrapperAdamW"
   ]
  },
  {
   "cell_type": "code",
   "execution_count": 2,
   "metadata": {},
   "outputs": [],
   "source": [
    "class CONFIG:\n",
    "    SELECTION = 'total'\n",
    "    OUT = 'BASELINE'\n",
    "    PATH = '../data/'\n",
    "    NUM_WORKERS = 8\n",
    "    SEED = 2023\n",
    "    BS = 1024 * 3\n",
    "    BS_VALID = 1024 * 3\n",
    "    L = 192\n",
    "    L_VALID = 192\n",
    "    EPOCHS = 8\n",
    "    MODEL = DeepIceModel\n",
    "    MODEL_KWARGS = {'dim': 384, 'dim_base': 128, 'depth': 8, 'head_size':32}\n",
    "    WEITHS = False\n",
    "    LOSS_FUNC = loss_vms\n",
    "    METRIC = loss"
   ]
  },
  {
   "cell_type": "code",
   "execution_count": null,
   "metadata": {},
   "outputs": [],
   "source": [
    "def train(config):\n",
    "    ds_train = IceCubeCache(config.PATH, mode='train', L=config.L, selection=config.SELECTION,reduce_size=0.125)\n",
    "    ds_train_len = IceCubeCache(config.PATH, mode='train', L=config.L, reduce_size=0.125, selection=config.SELECTION, mask_only=True)\n",
    "    sampler_train = RandomChunkSampler(ds_train_len, chunks=ds_train.chunks)\n",
    "    len_sampler_train = LenMatchBatchSampler(sampler_train, batch_size=config.BS, drop_last=True)\n",
    "    dl_train = DeviceDataLoader(torch.utils.data.DataLoader(ds_train, \n",
    "                batch_sampler=len_sampler_train, num_workers=config.NUM_WORKERS, persistent_workers=True))\n",
    "\n",
    "    ds_val = IceCubeCache(config.PATH, mode='eval', L=config.L_VALID, selection=config.SELECTION)\n",
    "    ds_val_len = IceCubeCache(config.PATH, mode='eval', L=config.L_VALID, selection=config.SELECTION, mask_only=True)\n",
    "    sampler_val = torch.utils.data.SequentialSampler(ds_val_len)\n",
    "    len_sampler_val = LenMatchBatchSampler(sampler_val, batch_size=config.BS_VALID, drop_last=False)\n",
    "    dl_val= DeviceDataLoader(torch.utils.data.DataLoader(ds_val, batch_sampler=len_sampler_val,\n",
    "                num_workers=0))\n",
    "\n",
    "\n",
    "    data = DataLoaders(dl_train,dl_val)\n",
    "    model = config.MODEL(**config.MODEL_KWARGS)\n",
    "    if config.WEITHS:\n",
    "        print('Loading weights from ...',config.WEITHS)\n",
    "        model.load_state_dict(torch.load(config.WEITHS))\n",
    "    model = nn.DataParallel(model)\n",
    "    model = model.cuda()\n",
    "    learn = Learner(data,\n",
    "                    model,  \n",
    "                    path = config.OUT, \n",
    "                    loss_func=config.LOSS_FUNC,\n",
    "                    cbs=[GradientClip(3.0),\n",
    "                        CSVLogger(),\n",
    "                        SaveModelCallback(monitor='loss',comp=np.less,every_epoch=True),\n",
    "                        GradientAccumulation(n_acc=4096//config.BS)],\n",
    "                        metrics=[config.METRIC], \n",
    "                        opt_func=partial(WrapperAdamW,eps=1e-7)).to_fp16()"
   ]
  }
 ],
 "metadata": {
  "kernelspec": {
   "display_name": "base",
   "language": "python",
   "name": "python3"
  },
  "language_info": {
   "codemirror_mode": {
    "name": "ipython",
    "version": 3
   },
   "file_extension": ".py",
   "mimetype": "text/x-python",
   "name": "python",
   "nbconvert_exporter": "python",
   "pygments_lexer": "ipython3",
   "version": "3.7.12"
  },
  "orig_nbformat": 4
 },
 "nbformat": 4,
 "nbformat_minor": 2
}
